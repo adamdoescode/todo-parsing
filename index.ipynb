{
 "cells": [
  {
   "cell_type": "markdown",
   "metadata": {},
   "source": [
    "# What does a Research Assistant do in a Medical Research Laboratory?\n",
    "\n",
    "When I worked as a research assistant I was asked to keep a todo list to record what I planned to do and what I managed to get done. I managed to hold onto these and have collated them together. I present some data from them here. Although, in the interests of privacy, I don't intend to publish the raw data.\n",
    "\n",
    "This is an analysis of my todo lists from the time I spent as a Research Assistant in a Life Sciences laboratory during 2018 and 2019. So far it includes the ipython notebooks for parsing the file from a word document (thanks to the docx python library) into a usable csv file, and some basic analysis of the data. The csv files and todo list word document are purposefully omitted to protect privacy. I will upload dummy versions of these at some point to give a better idea of the data used for this.\n",
    "\n",
    "[View the parsing notebook here](parse_and_clean.html)\n",
    "\n",
    "[View the preliminary analysis notebook here.](analysis_notebook.html)"
   ]
  },
  {
   "cell_type": "markdown",
   "metadata": {},
   "source": []
  }
 ],
 "metadata": {
  "kernelspec": {
   "display_name": "Python 3",
   "language": "python",
   "name": "python3"
  },
  "language_info": {
   "codemirror_mode": {
    "name": "ipython",
    "version": 3
   },
   "file_extension": ".py",
   "mimetype": "text/x-python",
   "name": "python",
   "nbconvert_exporter": "python",
   "pygments_lexer": "ipython3",
   "version": "3.7.6"
  }
 },
 "nbformat": 4,
 "nbformat_minor": 4
}
