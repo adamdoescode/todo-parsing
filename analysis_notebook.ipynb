{
 "cells": [
  {
   "cell_type": "markdown",
   "metadata": {},
   "source": [
    "# Analysis of data\n",
    "Time to start analysing! First need to check quality of data for missing values and other quirks"
   ]
  },
  {
   "cell_type": "markdown",
   "metadata": {},
   "source": [
    "## Useful imports"
   ]
  },
  {
   "cell_type": "code",
   "execution_count": 1,
   "metadata": {},
   "outputs": [],
   "source": [
    "#Import useful libraries\n",
    "import numpy as np\n",
    "import pandas as pd\n",
    "import matplotlib.pyplot as plt\n",
    "import seaborn as sns\n",
    "import datetime\n",
    "import re\n",
    "from collections import Counter"
   ]
  },
  {
   "cell_type": "markdown",
   "metadata": {},
   "source": [
    "# Importing data and formatting it properly\n",
    "Data from csv won't have correct datatypes as in the python program that generated the file so need to check the datatypes and fix the abberant ones"
   ]
  },
  {
   "cell_type": "code",
   "execution_count": 2,
   "metadata": {},
   "outputs": [
    {
     "data": {
      "text/html": [
       "<div>\n",
       "<style scoped>\n",
       "    .dataframe tbody tr th:only-of-type {\n",
       "        vertical-align: middle;\n",
       "    }\n",
       "\n",
       "    .dataframe tbody tr th {\n",
       "        vertical-align: top;\n",
       "    }\n",
       "\n",
       "    .dataframe thead th {\n",
       "        text-align: right;\n",
       "    }\n",
       "</style>\n",
       "<table border=\"1\" class=\"dataframe\">\n",
       "  <thead>\n",
       "    <tr style=\"text-align: right;\">\n",
       "      <th></th>\n",
       "      <th>date</th>\n",
       "      <th>ordinal_date</th>\n",
       "      <th>dayofweek</th>\n",
       "      <th>start_time</th>\n",
       "      <th>end_time</th>\n",
       "      <th>time_taken</th>\n",
       "      <th>activity</th>\n",
       "      <th>activity status</th>\n",
       "      <th>planned</th>\n",
       "    </tr>\n",
       "  </thead>\n",
       "  <tbody>\n",
       "    <tr>\n",
       "      <th>0</th>\n",
       "      <td>2018-03-01</td>\n",
       "      <td>0</td>\n",
       "      <td>Thursday</td>\n",
       "      <td>09:00:00</td>\n",
       "      <td>NaN</td>\n",
       "      <td>NaN</td>\n",
       "      <td>9: Take histo down to Nick in the store on lvl 1</td>\n",
       "      <td>done</td>\n",
       "      <td>True</td>\n",
       "    </tr>\n",
       "    <tr>\n",
       "      <th>1</th>\n",
       "      <td>2018-03-01</td>\n",
       "      <td>0</td>\n",
       "      <td>Thursday</td>\n",
       "      <td>10:30:00</td>\n",
       "      <td>13:30:00</td>\n",
       "      <td>180.0</td>\n",
       "      <td>10:30-1:30: Animal facilities induction</td>\n",
       "      <td>done</td>\n",
       "      <td>True</td>\n",
       "    </tr>\n",
       "    <tr>\n",
       "      <th>2</th>\n",
       "      <td>2018-03-01</td>\n",
       "      <td>0</td>\n",
       "      <td>Thursday</td>\n",
       "      <td>14:00:00</td>\n",
       "      <td>15:00:00</td>\n",
       "      <td>60.0</td>\n",
       "      <td>2-3: Microbiome meeting</td>\n",
       "      <td>done</td>\n",
       "      <td>True</td>\n",
       "    </tr>\n",
       "    <tr>\n",
       "      <th>3</th>\n",
       "      <td>2018-03-01</td>\n",
       "      <td>0</td>\n",
       "      <td>Thursday</td>\n",
       "      <td>14:30:00</td>\n",
       "      <td>17:00:00</td>\n",
       "      <td>150.0</td>\n",
       "      <td>2:30-5: KB22 Collagen Analysis</td>\n",
       "      <td>done</td>\n",
       "      <td>True</td>\n",
       "    </tr>\n",
       "    <tr>\n",
       "      <th>4</th>\n",
       "      <td>2018-03-02</td>\n",
       "      <td>1</td>\n",
       "      <td>Friday</td>\n",
       "      <td>09:00:00</td>\n",
       "      <td>16:00:00</td>\n",
       "      <td>420.0</td>\n",
       "      <td>9-4: BALF processing for endpoint (Alex)</td>\n",
       "      <td>done</td>\n",
       "      <td>True</td>\n",
       "    </tr>\n",
       "  </tbody>\n",
       "</table>\n",
       "</div>"
      ],
      "text/plain": [
       "         date  ordinal_date dayofweek start_time  end_time  time_taken  \\\n",
       "0  2018-03-01             0  Thursday   09:00:00       NaN         NaN   \n",
       "1  2018-03-01             0  Thursday   10:30:00  13:30:00       180.0   \n",
       "2  2018-03-01             0  Thursday   14:00:00  15:00:00        60.0   \n",
       "3  2018-03-01             0  Thursday   14:30:00  17:00:00       150.0   \n",
       "4  2018-03-02             1    Friday   09:00:00  16:00:00       420.0   \n",
       "\n",
       "                                           activity activity status  planned  \n",
       "0  9: Take histo down to Nick in the store on lvl 1            done     True  \n",
       "1           10:30-1:30: Animal facilities induction            done     True  \n",
       "2                           2-3: Microbiome meeting            done     True  \n",
       "3                    2:30-5: KB22 Collagen Analysis            done     True  \n",
       "4          9-4: BALF processing for endpoint (Alex)            done     True  "
      ]
     },
     "execution_count": 2,
     "metadata": {},
     "output_type": "execute_result"
    }
   ],
   "source": [
    "data_table = pd.read_csv(\"parsed todo table.csv\")\n",
    "#drop unneeded cols\n",
    "data_table = data_table.drop([\"Unnamed: 0\",\"day\"],axis=1)\n",
    "data_table.head(5)"
   ]
  },
  {
   "cell_type": "code",
   "execution_count": 3,
   "metadata": {},
   "outputs": [
    {
     "name": "stdout",
     "output_type": "stream",
     "text": [
      "date \t\t <class 'str'>\n",
      "ordinal_date \t\t <class 'numpy.int64'>\n",
      "dayofweek \t\t <class 'str'>\n",
      "start_time \t\t <class 'str'>\n",
      "end_time \t\t <class 'float'>\n",
      "time_taken \t\t <class 'numpy.float64'>\n",
      "activity \t\t <class 'str'>\n",
      "activity status \t\t <class 'str'>\n",
      "planned \t\t <class 'numpy.bool_'>\n"
     ]
    }
   ],
   "source": [
    "for col_name in data_table.columns:\n",
    "    print(col_name, '\\t\\t', type(data_table[col_name][0]))"
   ]
  },
  {
   "cell_type": "markdown",
   "metadata": {},
   "source": [
    "So date is not the right class. The rest are fine.  \n",
    "To fix `date` I can use `pd.to_datetime()` which has fairly clean syntax."
   ]
  },
  {
   "cell_type": "code",
   "execution_count": 4,
   "metadata": {},
   "outputs": [],
   "source": [
    "data_table['date'] = pd.to_datetime(data_table['date'])"
   ]
  },
  {
   "cell_type": "markdown",
   "metadata": {},
   "source": [
    "# Analysis of missing data\n",
    "Quick analysis of missing data in the todo dataset.  \n",
    "Should only be missing entries in start_time and end_time where there are entries without times.  \n",
    "Also expecting some start times with no corresponding ent times or time_taken entries."
   ]
  },
  {
   "cell_type": "code",
   "execution_count": 5,
   "metadata": {},
   "outputs": [],
   "source": [
    "import missingno as msno"
   ]
  },
  {
   "cell_type": "markdown",
   "metadata": {},
   "source": [
    "First, check to see what is missing data"
   ]
  },
  {
   "cell_type": "code",
   "execution_count": 6,
   "metadata": {},
   "outputs": [
    {
     "data": {
      "text/plain": [
       "<matplotlib.axes._subplots.AxesSubplot at 0x7f73db101510>"
      ]
     },
     "execution_count": 6,
     "metadata": {},
     "output_type": "execute_result"
    },
    {
     "data": {
      "image/png": "[encoded data removed]",
      "text/plain": [
       "<Figure size 1728x720 with 3 Axes>"
      ]
     },
     "metadata": {
      "needs_background": "light"
     },
     "output_type": "display_data"
    }
   ],
   "source": [
    "msno.bar(data_table)"
   ]
  },
  {
   "cell_type": "markdown",
   "metadata": {},
   "source": [
    "Check for missing entries using a for loop. Looks like only missing entries where there should be."
   ]
  },
  {
   "cell_type": "code",
   "execution_count": 7,
   "metadata": {},
   "outputs": [
    {
     "data": {
      "text/plain": [
       "date                 0\n",
       "ordinal_date         0\n",
       "dayofweek            0\n",
       "start_time         597\n",
       "end_time           618\n",
       "time_taken         618\n",
       "activity             0\n",
       "activity status      0\n",
       "planned              0\n",
       "dtype: int64"
      ]
     },
     "execution_count": 7,
     "metadata": {},
     "output_type": "execute_result"
    }
   ],
   "source": [
    "results_dict = {}\n",
    "for col_name in data_table.columns:\n",
    "    results_dict[col_name] = sum(data_table[col_name].isnull())\n",
    "pd.Series(results_dict)"
   ]
  },
  {
   "cell_type": "markdown",
   "metadata": {},
   "source": [
    "Check pattern of missing data for start and end times visually"
   ]
  },
  {
   "cell_type": "code",
   "execution_count": 8,
   "metadata": {},
   "outputs": [
    {
     "data": {
      "text/plain": [
       "<matplotlib.axes._subplots.AxesSubplot at 0x7f73dad9c610>"
      ]
     },
     "execution_count": 8,
     "metadata": {},
     "output_type": "execute_result"
    },
    {
     "data": {
      "image/png": "[encoded data removed]",
      "text/plain": [
       "<Figure size 1800x720 with 2 Axes>"
      ]
     },
     "metadata": {
      "needs_background": "light"
     },
     "output_type": "display_data"
    }
   ],
   "source": [
    "msno.matrix(data_table[[\"start_time\", \"end_time\", \"time_taken\"]].head(100))"
   ]
  },
  {
   "cell_type": "markdown",
   "metadata": {},
   "source": [
    "and with code:"
   ]
  },
  {
   "cell_type": "code",
   "execution_count": 9,
   "metadata": {},
   "outputs": [
    {
     "data": {
      "text/plain": [
       "True"
      ]
     },
     "execution_count": 9,
     "metadata": {},
     "output_type": "execute_result"
    }
   ],
   "source": [
    "data_table.end_time.isnull().equals(data_table.time_taken.isnull())"
   ]
  },
  {
   "cell_type": "markdown",
   "metadata": {},
   "source": [
    "check if other columns have any NaN values. Empty list is good!"
   ]
  },
  {
   "cell_type": "code",
   "execution_count": 10,
   "metadata": {},
   "outputs": [
    {
     "data": {
      "text/html": [
       "<div>\n",
       "<style scoped>\n",
       "    .dataframe tbody tr th:only-of-type {\n",
       "        vertical-align: middle;\n",
       "    }\n",
       "\n",
       "    .dataframe tbody tr th {\n",
       "        vertical-align: top;\n",
       "    }\n",
       "\n",
       "    .dataframe thead th {\n",
       "        text-align: right;\n",
       "    }\n",
       "</style>\n",
       "<table border=\"1\" class=\"dataframe\">\n",
       "  <thead>\n",
       "    <tr style=\"text-align: right;\">\n",
       "      <th></th>\n",
       "      <th>date</th>\n",
       "      <th>ordinal_date</th>\n",
       "      <th>dayofweek</th>\n",
       "      <th>start_time</th>\n",
       "      <th>end_time</th>\n",
       "      <th>time_taken</th>\n",
       "      <th>activity</th>\n",
       "      <th>activity status</th>\n",
       "      <th>planned</th>\n",
       "    </tr>\n",
       "  </thead>\n",
       "  <tbody>\n",
       "  </tbody>\n",
       "</table>\n",
       "</div>"
      ],
      "text/plain": [
       "Empty DataFrame\n",
       "Columns: [date, ordinal_date, dayofweek, start_time, end_time, time_taken, activity, activity status, planned]\n",
       "Index: []"
      ]
     },
     "execution_count": 10,
     "metadata": {},
     "output_type": "execute_result"
    }
   ],
   "source": [
    "data_table.loc[data_table[[\"date\",\"ordinal_date\",\"activity\",\"activity status\",\"planned\"]].isna().all(axis=1)]"
   ]
  },
  {
   "cell_type": "markdown",
   "metadata": {},
   "source": [
    "# Data completeness\n",
    "Some stats for events with times"
   ]
  },
  {
   "cell_type": "code",
   "execution_count": 11,
   "metadata": {},
   "outputs": [
    {
     "name": "stdout",
     "output_type": "stream",
     "text": [
      "total entries \t 1413\n",
      "entries with...\n",
      "start_time \t 816\n",
      "end_time \t 795\n"
     ]
    }
   ],
   "source": [
    "#Some counts\n",
    "print(\"total entries\", \"\\t\",len(data_table))\n",
    "print(\"entries with...\")\n",
    "print(\"start_time\", \"\\t\", len(data_table['start_time'].loc[data_table['start_time'].isna() == False]))\n",
    "print(\"end_time\", \"\\t\", len(data_table['end_time'].loc[data_table['end_time'].isna() == False]))"
   ]
  },
  {
   "cell_type": "markdown",
   "metadata": {},
   "source": [
    "# Counts and Frequencies by day of the week\n",
    "With most of the data checking out of the way. Can start doing some basic frequency analysis!  \n",
    "First some simple frequency counts:  \n",
    "1. How many of each day is in the dataset?\n",
    "2. How many days are in 2018 and in 2019?\n",
    "3. Since I worked for all of 2018, how many days are represented in 2018 out of the total days in the year?"
   ]
  },
  {
   "cell_type": "markdown",
   "metadata": {},
   "source": [
    "#### 1. How many of each day is in the dataset?\n",
    "I can get this by abusing the pandas groupby method to get an index composed of each unique date with its dayofweek name. Then I can use Counter() to get frequencies."
   ]
  },
  {
   "cell_type": "code",
   "execution_count": 12,
   "metadata": {},
   "outputs": [
    {
     "data": {
      "text/plain": [
       "Thursday     61\n",
       "Friday       59\n",
       "Monday       60\n",
       "Tuesday      61\n",
       "Wednesday    61\n",
       "Sunday        2\n",
       "dtype: int64"
      ]
     },
     "execution_count": 12,
     "metadata": {},
     "output_type": "execute_result"
    }
   ],
   "source": [
    "freq_of_days = Counter(data_table.groupby(['date', 'dayofweek']).count().index.get_level_values(1))\n",
    "pd.Series(freq_of_days)"
   ]
  },
  {
   "cell_type": "markdown",
   "metadata": {},
   "source": [
    "A sum of `freq_of_days` should equal the length of a list of unique dates in the dataset (which it does!)"
   ]
  },
  {
   "cell_type": "code",
   "execution_count": 13,
   "metadata": {},
   "outputs": [
    {
     "data": {
      "text/plain": [
       "304"
      ]
     },
     "execution_count": 13,
     "metadata": {},
     "output_type": "execute_result"
    }
   ],
   "source": [
    "np.sum(list(freq_of_days.values()))"
   ]
  },
  {
   "cell_type": "code",
   "execution_count": 14,
   "metadata": {},
   "outputs": [
    {
     "data": {
      "text/plain": [
       "304"
      ]
     },
     "execution_count": 14,
     "metadata": {},
     "output_type": "execute_result"
    }
   ],
   "source": [
    "len(data_table['date'].unique())"
   ]
  },
  {
   "cell_type": "markdown",
   "metadata": {},
   "source": [
    "#### 1.1 How many days are in 2018 or in 2019?\n",
    "I worked for the entirety of 2018 (although this dataset starts on the 1st of March 2018 since earlier todo entries were in a different format), barring a few weeks of Holidays (see below). I only worked until the last week of June in 2019 before my contract expired (science funding is fickle!). Note that the presence of the day in this dataset could be from a note or for a very small activity, or could be a sick day/holiday. The lack of any Saturdays is due to the strong defense of limits on my job description by those who came before me in the same role and with the same boss. I am fortunate that I could stick to a (mostly) 9 to 5 weekday schedule for my work."
   ]
  },
  {
   "cell_type": "code",
   "execution_count": 15,
   "metadata": {},
   "outputs": [],
   "source": [
    "#filter by year and then use groupby and Counter()\n",
    "temp_df = data_table.loc[data_table['date'].map(lambda x: x.year == 2018)]\n",
    "CountOfDaysIn2018 = Counter(temp_df.groupby(['date', 'dayofweek']).count().index.get_level_values(1))\n",
    "\n",
    "#repeat for 2019\n",
    "temp_df = data_table.loc[data_table['date'].map(lambda x: x.year == 2019)]\n",
    "CountOfDaysIn2019 = Counter(temp_df.groupby(['date', 'dayofweek']).count().index.get_level_values(1))"
   ]
  },
  {
   "cell_type": "code",
   "execution_count": 16,
   "metadata": {},
   "outputs": [
    {
     "name": "stdout",
     "output_type": "stream",
     "text": [
      "Total days: 205\n"
     ]
    },
    {
     "data": {
      "text/plain": [
       "Thursday     42\n",
       "Friday       40\n",
       "Monday       40\n",
       "Tuesday      41\n",
       "Wednesday    41\n",
       "Sunday        1\n",
       "dtype: int64"
      ]
     },
     "execution_count": 16,
     "metadata": {},
     "output_type": "execute_result"
    }
   ],
   "source": [
    "print(\"Total days: %.0f\" % np.sum(list(CountOfDaysIn2018.values())))\n",
    "pd.Series(CountOfDaysIn2018)"
   ]
  },
  {
   "cell_type": "code",
   "execution_count": 17,
   "metadata": {},
   "outputs": [
    {
     "name": "stdout",
     "output_type": "stream",
     "text": [
      "Total days: 99\n"
     ]
    },
    {
     "data": {
      "text/plain": [
       "Monday       20\n",
       "Tuesday      20\n",
       "Wednesday    20\n",
       "Thursday     19\n",
       "Friday       19\n",
       "Sunday        1\n",
       "dtype: int64"
      ]
     },
     "execution_count": 17,
     "metadata": {},
     "output_type": "execute_result"
    }
   ],
   "source": [
    "print(\"Total days: %.0f\" % np.sum(list(CountOfDaysIn2019.values())))\n",
    "pd.Series(CountOfDaysIn2019)"
   ]
  },
  {
   "cell_type": "markdown",
   "metadata": {},
   "source": [
    "#### 1.2 Visualisation of when I worked\n",
    "It might be interesting to see the days I worked visualised as a horizontal bar graph.  \n",
    "This is easy to implement as I can use `broken_barh` from matplotlib. Each day can be represented by a unit of 1 on the x axis and visualised with an arbitrary sized y unit. I can get all the unique ordinal dates which are already in the correct format and zip them with a list of 0.9's of the same length and feed it to broken_barh.  \n",
    "**Graph discussion here**  \n",
    "There is a pretty clear pattern of week/weekend throughout the graph. There are some bigger gaps marking three Holidays I took, the largest being a combined christmas break and holiday."
   ]
  },
  {
   "cell_type": "code",
   "execution_count": 18,
   "metadata": {},
   "outputs": [
    {
     "data": {
      "image/png": "[encoded data removed]",
      "text/plain": [
       "<Figure size 2160x144 with 1 Axes>"
      ]
     },
     "metadata": {
      "needs_background": "light"
     },
     "output_type": "display_data"
    }
   ],
   "source": [
    "#process data to get what I need\n",
    "ordinal_dates = data_table['ordinal_date'].unique()\n",
    "length = len(ordinal_dates)\n",
    "barh_input = list(zip(ordinal_dates,[1 for x in range(0,length)]))\n",
    "\n",
    "#build figure\n",
    "fig, ax = plt.subplots(1, figsize=(30,2))\n",
    "ax.broken_barh(barh_input, yrange=(0,1))\n",
    "\n",
    "#title\n",
    "fig.suptitle(\"Days with events in my todo list dataset\")\n",
    "\n",
    "#fix x-axis whitespace\n",
    "ax.set_xlim(-5,461)\n",
    "\n",
    "#hide yticks\n",
    "ax.set_yticks([])\n",
    "#we can set the xtick labels to dates instead of raw numbers\n",
    "#get labels, chosen so I can pull dates from the dataset\n",
    "ax.set_xticks([0, 98, 200, 293, 390, 455])\n",
    "#ax.set_xticklabels\n",
    "ax.set_xticklabels(['01Mar18', '07Jun18','17Sep18','19Dec18','26Mar19','30May19'])\n",
    "\n",
    "plt.show()"
   ]
  },
  {
   "cell_type": "markdown",
   "metadata": {},
   "source": [
    "#### 2. How many events are in 2018 and in 2019?\n",
    "This is a count of events rather than days."
   ]
  },
  {
   "cell_type": "code",
   "execution_count": 19,
   "metadata": {},
   "outputs": [
    {
     "name": "stdout",
     "output_type": "stream",
     "text": [
      "# events in 2018: 966\n",
      "# events in 2019: 447\n"
     ]
    }
   ],
   "source": [
    "print(\"# events in 2018:\", len(data_table.loc[data_table['date'].map(lambda x: x.year == 2018)]))\n",
    "print(\"# events in 2019:\", len(data_table.loc[data_table['date'].map(lambda x: x.year == 2019)]))"
   ]
  },
  {
   "cell_type": "code",
   "execution_count": 20,
   "metadata": {},
   "outputs": [
    {
     "data": {
      "image/png": "[encoded data removed]",
      "text/plain": [
       "<Figure size 1440x720 with 2 Axes>"
      ]
     },
     "metadata": {
      "needs_background": "light"
     },
     "output_type": "display_data"
    }
   ],
   "source": [
    "#\n",
    "f, ax = plt.subplots(2, figsize=(20,10))\n",
    "sns.countplot(ax=ax[0], x='dayofweek', data=data_table.loc[data_table['date'].map(lambda x: x.year == 2018)],\n",
    "              order=[\"Sunday\",\"Monday\",\"Tuesday\",\"Wednesday\",\"Thursday\",\"Friday\"])\n",
    "\n",
    "sns.countplot(ax=ax[1], x='dayofweek', data=data_table.loc[data_table['date'].map(lambda x: x.year == 2019)],\n",
    "              order=[\"Sunday\",\"Monday\",\"Tuesday\",\"Wednesday\",\"Thursday\",\"Friday\"])\n",
    "plt.show()"
   ]
  },
  {
   "cell_type": "markdown",
   "metadata": {},
   "source": [
    "### Count of events that happened on each day\n",
    "This is a raw count of *events* that occurred on each day."
   ]
  },
  {
   "cell_type": "code",
   "execution_count": 21,
   "metadata": {},
   "outputs": [
    {
     "data": {
      "image/png": "[encoded data removed]",
      "text/plain": [
       "<Figure size 432x288 with 1 Axes>"
      ]
     },
     "metadata": {
      "needs_background": "light"
     },
     "output_type": "display_data"
    }
   ],
   "source": [
    "#count of all events by day of week\n",
    "f, ax = plt.subplots()\n",
    "sns.countplot(ax=ax, x='dayofweek', data=data_table, order=[\"Sunday\",\"Monday\",\"Tuesday\",\"Wednesday\",\"Thursday\",\"Friday\"])\n",
    "plt.show()"
   ]
  },
  {
   "cell_type": "markdown",
   "metadata": {},
   "source": [
    "### Distribution of count of events per day\n",
    "Lets take a look at distribution and outliers with some box and whiskers plots"
   ]
  },
  {
   "cell_type": "code",
   "execution_count": 22,
   "metadata": {},
   "outputs": [
    {
     "data": {
      "text/plain": [
       "count    304.000000\n",
       "mean       4.648026\n",
       "std        2.015893\n",
       "min        1.000000\n",
       "25%        3.000000\n",
       "50%        5.000000\n",
       "75%        6.000000\n",
       "max       12.000000\n",
       "dtype: float64"
      ]
     },
     "execution_count": 22,
     "metadata": {},
     "output_type": "execute_result"
    }
   ],
   "source": [
    "#Counter() gives a frequency table of keys in a given dataframe row\n",
    "count_per_day = pd.Series(Counter(data_table['ordinal_date'])).sort_values()\n",
    "count_per_day.describe()"
   ]
  },
  {
   "cell_type": "markdown",
   "metadata": {},
   "source": [
    "Graphing the distribution of activity frequency per day shows a roughly skewed normal distribution with a few high outliers and more days with 1 activity than with 2 activities."
   ]
  },
  {
   "cell_type": "code",
   "execution_count": 23,
   "metadata": {},
   "outputs": [
    {
     "data": {
      "image/png": "[encoded data removed]",
      "text/plain": [
       "<Figure size 720x720 with 2 Axes>"
      ]
     },
     "metadata": {
      "needs_background": "light"
     },
     "output_type": "display_data"
    }
   ],
   "source": [
    "#calling Counter(count_per_day) gives a frequency table of activities per ordinal_date\n",
    "\n",
    "fig, ax = plt.subplots(1,2, figsize=(10,10))\n",
    "\n",
    "ax[0].boxplot(count_per_day, patch_artist=True, notch=True)\n",
    "\n",
    "#using ax.barh makes it easier to give individual bars for each integer value rather than ax.hist\n",
    "ax[1].barh(y=[x for x in range(1,13)],width=Counter(count_per_day).values(), \n",
    "           color='green', height=1, linewidth=1, edgecolor='black')\n",
    "\n",
    "fig.suptitle('Distribution of activity frequency', fontsize=16)\n",
    "\n",
    "plt.show()"
   ]
  },
  {
   "cell_type": "markdown",
   "metadata": {},
   "source": [
    "### Distributions of activity frequency per day filtered by activity status\n",
    "I made this before realising it was pretty worthless so it stays here"
   ]
  },
  {
   "cell_type": "code",
   "execution_count": 24,
   "metadata": {},
   "outputs": [
    {
     "data": {
      "image/png": "[encoded data removed]",
      "text/plain": [
       "<Figure size 2160x432 with 4 Axes>"
      ]
     },
     "metadata": {
      "needs_background": "light"
     },
     "output_type": "display_data"
    }
   ],
   "source": [
    "#build frequency tables filtered by activity status\n",
    "count_per_day_done = pd.Series(Counter(data_table.loc[data_table['activity status']=='done']['ordinal_date'])).sort_values()\n",
    "count_per_day_ntdone = pd.Series(Counter(data_table.loc[data_table['activity status']=='not done']['ordinal_date'])).sort_values()\n",
    "count_per_day_part = pd.Series(Counter(data_table.loc[data_table['activity status']=='partly done']['ordinal_date'])).sort_values()\n",
    "count_per_day_note = pd.Series(Counter(data_table.loc[data_table['activity status']=='note']['ordinal_date'])).sort_values()\n",
    "\n",
    "#build figure with overlay of full dataset behind each filtered distribution\n",
    "fig, ax = plt.subplots(1,4, figsize=(30,6))\n",
    "\n",
    "#places background histogram in all 4 subplots\n",
    "for i in range(0,4):\n",
    "    ax[i].barh(y=list(Counter(count_per_day).keys()),width=Counter(count_per_day).values(), \n",
    "           color='lightgreen', height=1)\n",
    "    \n",
    "#overlay with filtered plots\n",
    "filtered_sets = [count_per_day_done, count_per_day_ntdone, count_per_day_part, count_per_day_note]\n",
    "#for i in range(0,4):\n",
    "#    ax[i].barh(y=[x for x in range(1,13)],width=Counter(filtered_sets[i]).values(), \n",
    "#           color='blue', height=1)\n",
    "for i in range(0,4):\n",
    "    temp_dataset = Counter(filtered_sets[i])\n",
    "    ax[i].barh(y=list(temp_dataset.keys()),width=temp_dataset.values(), \n",
    "               color='blue', height=1)"
   ]
  },
  {
   "cell_type": "markdown",
   "metadata": {},
   "source": [
    "## Frequency of activities for each day of the week\n",
    "Interested in activities for each day of the week. I am also interested in answering whether the ratio of planned and unplanned activities changes between each day"
   ]
  },
  {
   "cell_type": "code",
   "execution_count": 25,
   "metadata": {},
   "outputs": [
    {
     "data": {
      "text/html": [
       "<div>\n",
       "<style scoped>\n",
       "    .dataframe tbody tr th:only-of-type {\n",
       "        vertical-align: middle;\n",
       "    }\n",
       "\n",
       "    .dataframe tbody tr th {\n",
       "        vertical-align: top;\n",
       "    }\n",
       "\n",
       "    .dataframe thead th {\n",
       "        text-align: right;\n",
       "    }\n",
       "</style>\n",
       "<table border=\"1\" class=\"dataframe\">\n",
       "  <thead>\n",
       "    <tr style=\"text-align: right;\">\n",
       "      <th></th>\n",
       "      <th>mean</th>\n",
       "      <th>std</th>\n",
       "    </tr>\n",
       "    <tr>\n",
       "      <th>dayofweek</th>\n",
       "      <th></th>\n",
       "      <th></th>\n",
       "    </tr>\n",
       "  </thead>\n",
       "  <tbody>\n",
       "    <tr>\n",
       "      <th>Monday</th>\n",
       "      <td>4.950000</td>\n",
       "      <td>2.324702</td>\n",
       "    </tr>\n",
       "    <tr>\n",
       "      <th>Tuesday</th>\n",
       "      <td>4.786885</td>\n",
       "      <td>2.034001</td>\n",
       "    </tr>\n",
       "    <tr>\n",
       "      <th>Wednesday</th>\n",
       "      <td>4.491803</td>\n",
       "      <td>1.699244</td>\n",
       "    </tr>\n",
       "    <tr>\n",
       "      <th>Thursday</th>\n",
       "      <td>4.606557</td>\n",
       "      <td>2.059763</td>\n",
       "    </tr>\n",
       "    <tr>\n",
       "      <th>Friday</th>\n",
       "      <td>4.525424</td>\n",
       "      <td>1.860255</td>\n",
       "    </tr>\n",
       "  </tbody>\n",
       "</table>\n",
       "</div>"
      ],
      "text/plain": [
       "               mean       std\n",
       "dayofweek                    \n",
       "Monday     4.950000  2.324702\n",
       "Tuesday    4.786885  2.034001\n",
       "Wednesday  4.491803  1.699244\n",
       "Thursday   4.606557  2.059763\n",
       "Friday     4.525424  1.860255"
      ]
     },
     "execution_count": 25,
     "metadata": {},
     "output_type": "execute_result"
    }
   ],
   "source": [
    "#the use of 'ordinal_date' column here is arbitrary as I just need one column of counts and not several\n",
    "grouped = data_table.groupby(['date','dayofweek'])['ordinal_date'].count().groupby('dayofweek')\n",
    "dayofweek_freq = pd.DataFrame(index=['mean','std'], data=[grouped.mean(),grouped.std()]).T\n",
    "#reindex to get days in a sensible order and drop Sunday since it is such a small sample (n=2)\n",
    "days_of_week = [\"Monday\",\"Tuesday\",\"Wednesday\",\"Thursday\",\"Friday\"]\n",
    "dayofweek_freq= dayofweek_freq.reindex(days_of_week)\n",
    "dayofweek_freq"
   ]
  },
  {
   "cell_type": "markdown",
   "metadata": {},
   "source": [
    "A bar graph quickly shows that there is no notable trend here and the variation in the data is far too large to find any small changes anyway"
   ]
  },
  {
   "cell_type": "code",
   "execution_count": 26,
   "metadata": {},
   "outputs": [
    {
     "data": {
      "image/png": "[encoded data removed]",
      "text/plain": [
       "<Figure size 432x288 with 1 Axes>"
      ]
     },
     "metadata": {
      "needs_background": "light"
     },
     "output_type": "display_data"
    }
   ],
   "source": [
    "plt.bar(x=days_of_week, height=dayofweek_freq['mean'].values, yerr=dayofweek_freq['std'].values)\n",
    "plt.title('Mean count of activities for each day of the week')\n",
    "plt.ylabel(\"mean count of activities\")\n",
    "plt.show()"
   ]
  },
  {
   "cell_type": "markdown",
   "metadata": {},
   "source": [
    "How does the mean change when looking at activity status and planned/unplanned events?"
   ]
  },
  {
   "cell_type": "code",
   "execution_count": 27,
   "metadata": {},
   "outputs": [
    {
     "data": {
      "text/html": [
       "<div>\n",
       "<style scoped>\n",
       "    .dataframe tbody tr th:only-of-type {\n",
       "        vertical-align: middle;\n",
       "    }\n",
       "\n",
       "    .dataframe tbody tr th {\n",
       "        vertical-align: top;\n",
       "    }\n",
       "\n",
       "    .dataframe thead th {\n",
       "        text-align: right;\n",
       "    }\n",
       "</style>\n",
       "<table border=\"1\" class=\"dataframe\">\n",
       "  <thead>\n",
       "    <tr style=\"text-align: right;\">\n",
       "      <th></th>\n",
       "      <th></th>\n",
       "      <th>mean</th>\n",
       "      <th>std</th>\n",
       "    </tr>\n",
       "    <tr>\n",
       "      <th>planned</th>\n",
       "      <th>dayofweek</th>\n",
       "      <th></th>\n",
       "      <th></th>\n",
       "    </tr>\n",
       "  </thead>\n",
       "  <tbody>\n",
       "    <tr>\n",
       "      <th rowspan=\"5\" valign=\"top\">False</th>\n",
       "      <th>Monday</th>\n",
       "      <td>2.064516</td>\n",
       "      <td>1.436094</td>\n",
       "    </tr>\n",
       "    <tr>\n",
       "      <th>Tuesday</th>\n",
       "      <td>2.666667</td>\n",
       "      <td>1.300406</td>\n",
       "    </tr>\n",
       "    <tr>\n",
       "      <th>Wednesday</th>\n",
       "      <td>2.395833</td>\n",
       "      <td>1.364280</td>\n",
       "    </tr>\n",
       "    <tr>\n",
       "      <th>Thursday</th>\n",
       "      <td>2.977778</td>\n",
       "      <td>1.712108</td>\n",
       "    </tr>\n",
       "    <tr>\n",
       "      <th>Friday</th>\n",
       "      <td>3.400000</td>\n",
       "      <td>1.586878</td>\n",
       "    </tr>\n",
       "    <tr>\n",
       "      <th rowspan=\"5\" valign=\"top\">True</th>\n",
       "      <th>Monday</th>\n",
       "      <td>3.883333</td>\n",
       "      <td>1.795396</td>\n",
       "    </tr>\n",
       "    <tr>\n",
       "      <th>Tuesday</th>\n",
       "      <td>2.950820</td>\n",
       "      <td>1.309278</td>\n",
       "    </tr>\n",
       "    <tr>\n",
       "      <th>Wednesday</th>\n",
       "      <td>2.694915</td>\n",
       "      <td>1.476882</td>\n",
       "    </tr>\n",
       "    <tr>\n",
       "      <th>Thursday</th>\n",
       "      <td>2.773585</td>\n",
       "      <td>1.588922</td>\n",
       "    </tr>\n",
       "    <tr>\n",
       "      <th>Friday</th>\n",
       "      <td>2.192308</td>\n",
       "      <td>1.428539</td>\n",
       "    </tr>\n",
       "  </tbody>\n",
       "</table>\n",
       "</div>"
      ],
      "text/plain": [
       "                       mean       std\n",
       "planned dayofweek                    \n",
       "False   Monday     2.064516  1.436094\n",
       "        Tuesday    2.666667  1.300406\n",
       "        Wednesday  2.395833  1.364280\n",
       "        Thursday   2.977778  1.712108\n",
       "        Friday     3.400000  1.586878\n",
       "True    Monday     3.883333  1.795396\n",
       "        Tuesday    2.950820  1.309278\n",
       "        Wednesday  2.694915  1.476882\n",
       "        Thursday   2.773585  1.588922\n",
       "        Friday     2.192308  1.428539"
      ]
     },
     "execution_count": 27,
     "metadata": {},
     "output_type": "execute_result"
    }
   ],
   "source": [
    "planned_v_unplanned = data_table.groupby([\"planned\",\"date\",\"dayofweek\"]).activity.count().groupby(['planned','dayofweek']).aggregate([np.mean,np.std])\n",
    "#reindex days in sensible order\n",
    "planned_v_unplanned = planned_v_unplanned.reindex(days_of_week,level=1)\n",
    "planned_v_unplanned"
   ]
  },
  {
   "cell_type": "markdown",
   "metadata": {},
   "source": [
    "### Graph of mean activities per day split by whether they were planned or unplanned\n",
    "Note the trend of decreasing numbers of planned activities as the week progressed and increasing unplanned activities  \n",
    "This can be explained by my habit of planning my week late on fridays or early on mondays. I would often not have a full week of work and would gain new (unplanned) activities through the week."
   ]
  },
  {
   "cell_type": "code",
   "execution_count": 28,
   "metadata": {},
   "outputs": [
    {
     "data": {
      "image/png": "[encoded data removed]",
      "text/plain": [
       "<Figure size 1440x504 with 2 Axes>"
      ]
     },
     "metadata": {
      "needs_background": "light"
     },
     "output_type": "display_data"
    }
   ],
   "source": [
    "#get values in a format that matplotlib accepts easily\n",
    "x_false = planned_v_unplanned.loc[False]['mean'].values\n",
    "x_true = planned_v_unplanned.loc[True]['mean'].values\n",
    "\n",
    "x_false_std = planned_v_unplanned.loc[False]['std'].values\n",
    "x_true_std = planned_v_unplanned.loc[True]['std'].values\n",
    "\n",
    "#build figure\n",
    "fig, axs = plt.subplots(1,2, figsize=(20, 7))\n",
    "axs[0].bar(x=days_of_week, height=x_true, yerr=x_true_std)\n",
    "axs[1].bar(x=days_of_week, height=x_false, yerr=x_false_std, color='orange')\n",
    "\n",
    "#labels\n",
    "axs[0].set_title(\"Planned\")\n",
    "axs[0].set_ylabel('mean count of activities')\n",
    "\n",
    "axs[1].set_title(\"Unplanned\")\n",
    "axs[1].set_ylabel('mean count of activities')\n",
    "\n",
    "fig.suptitle(\"Mean count of activities for each day split by whether they were planned\")\n",
    "plt.show()"
   ]
  },
  {
   "cell_type": "markdown",
   "metadata": {},
   "source": [
    "# Activity Status\n",
    "Freq of done/not done  \n",
    "done/not done by day of the week  \n",
    "done/not done by each month I worked"
   ]
  },
  {
   "cell_type": "markdown",
   "metadata": {},
   "source": [
    "What options exist in 'activity status'?  \n",
    "done and not done make sense. Partly done was derived from a set of rules established in ipython workbook that generated the dataset.  \n",
    "'note' entries were determined by presence of \"sick\" or \"\\[\""
   ]
  },
  {
   "cell_type": "code",
   "execution_count": 29,
   "metadata": {},
   "outputs": [
    {
     "data": {
      "text/plain": [
       "Counter({'done': 1075, 'not done': 219, 'partly done': 69, 'note': 50})"
      ]
     },
     "execution_count": 29,
     "metadata": {},
     "output_type": "execute_result"
    }
   ],
   "source": [
    "Counter(data_table['activity status'])"
   ]
  },
  {
   "cell_type": "markdown",
   "metadata": {},
   "source": [
    "### Frequencies of activity by activity status and day of the week\n",
    "The below groupby shows that there were many more 'done' activities than not done. There is no trend through the week for 'done' or 'not done'. For 'partly done' there is a lot more activities on monday and thursday than other days, but I have no explanation for why this might be the case. Maybe a quirk of how I think about planning?"
   ]
  },
  {
   "cell_type": "code",
   "execution_count": 30,
   "metadata": {},
   "outputs": [
    {
     "data": {
      "text/plain": [
       "activity status  dayofweek\n",
       "done             Monday       220\n",
       "                 Tuesday      224\n",
       "                 Wednesday    214\n",
       "                 Thursday     210\n",
       "                 Friday       206\n",
       "not done         Monday        43\n",
       "                 Tuesday       47\n",
       "                 Wednesday     40\n",
       "                 Thursday      47\n",
       "                 Friday        42\n",
       "note             Monday        13\n",
       "                 Tuesday        9\n",
       "                 Wednesday     10\n",
       "                 Thursday       8\n",
       "                 Friday        10\n",
       "partly done      Monday        21\n",
       "                 Tuesday       12\n",
       "                 Wednesday     10\n",
       "                 Thursday      16\n",
       "                 Friday         9\n",
       "Name: date, dtype: int64"
      ]
     },
     "execution_count": 30,
     "metadata": {},
     "output_type": "execute_result"
    }
   ],
   "source": [
    "#groupby and get frequency. Use reindex method to order things sensibly and drop Sunday\n",
    "activity_status_by_weekday = data_table.groupby(['activity status', 'dayofweek']).date.count().reindex(days_of_week,level=1)\n",
    "activity_status_by_weekday"
   ]
  },
  {
   "cell_type": "markdown",
   "metadata": {},
   "source": [
    "Here are some quick graphs for this"
   ]
  },
  {
   "cell_type": "code",
   "execution_count": 31,
   "metadata": {},
   "outputs": [
    {
     "data": {
      "image/png": "[encoded data removed]",
      "text/plain": [
       "<Figure size 1440x504 with 4 Axes>"
      ]
     },
     "metadata": {
      "needs_background": "light"
     },
     "output_type": "display_data"
    }
   ],
   "source": [
    "#get values in a format that matplotlib accepts easily\n",
    "x_done = activity_status_by_weekday['done']\n",
    "x_notdone = activity_status_by_weekday['not done']\n",
    "x_note = activity_status_by_weekday['note']\n",
    "x_partly = activity_status_by_weekday['partly done']\n",
    "\n",
    "#build figure\n",
    "fig, axs = plt.subplots(2,2, figsize=(20, 7))\n",
    "\n",
    "axs[0,0].bar(x=days_of_week, height=x_done)\n",
    "axs[0,0].set_title(\"Done\")\n",
    "axs[0,0].set_ylabel('Number of activities')\n",
    "\n",
    "axs[0,1].bar(x=days_of_week, height=x_notdone, color='orange')\n",
    "axs[0,1].set_title(\"Not Done\")\n",
    "axs[0,1].set_ylabel('Number of activities')\n",
    "\n",
    "axs[1,0].bar(x=days_of_week, height=x_note, color='green')\n",
    "axs[1,0].set_title(\"Note\")\n",
    "axs[1,0].set_ylabel('Number of activities')\n",
    "\n",
    "axs[1,1].bar(x=days_of_week, height=x_partly, color='purple')\n",
    "axs[1,1].set_title(\"Partly Done\")\n",
    "axs[1,1].set_ylabel('Number of activities')\n",
    "\n",
    "fig.suptitle(\"Count of activities for each day split by status\")\n",
    "plt.show()"
   ]
  },
  {
   "cell_type": "markdown",
   "metadata": {},
   "source": [
    "These would be better compared on a single bar graph"
   ]
  },
  {
   "cell_type": "code",
   "execution_count": 32,
   "metadata": {},
   "outputs": [
    {
     "data": {
      "image/png": "[encoded data removed]",
      "text/plain": [
       "<Figure size 1800x504 with 1 Axes>"
      ]
     },
     "metadata": {
      "needs_background": "light"
     },
     "output_type": "display_data"
    }
   ],
   "source": [
    "#put all values into a single labelled dict\n",
    "results_dict = {}\n",
    "for day in days_of_week:\n",
    "    for status in ['done', 'not done', 'note', 'partly done']:\n",
    "        combined_string_key = day[0:3] + '\\n' + status\n",
    "        results_dict[combined_string_key] = activity_status_by_weekday[status][day]\n",
    "\n",
    "x = list(results_dict.keys())\n",
    "height = list(results_dict.values())\n",
    "        \n",
    "#generate bar chart\n",
    "fig, ax= plt.subplots(1,figsize = (25,7))\n",
    "\n",
    "ax.bar(x, height)\n",
    "\n",
    "fig.suptitle(\"Comparison between status for each weekday\")\n",
    "\n",
    "#plt.xticks(rotation=90)\n",
    "\n",
    "plt.show()"
   ]
  },
  {
   "cell_type": "code",
   "execution_count": null,
   "metadata": {},
   "outputs": [],
   "source": []
  },
  {
   "cell_type": "code",
   "execution_count": null,
   "metadata": {},
   "outputs": [],
   "source": []
  },
  {
   "cell_type": "code",
   "execution_count": 33,
   "metadata": {},
   "outputs": [
    {
     "data": {
      "text/html": [
       "<div>\n",
       "<style scoped>\n",
       "    .dataframe tbody tr th:only-of-type {\n",
       "        vertical-align: middle;\n",
       "    }\n",
       "\n",
       "    .dataframe tbody tr th {\n",
       "        vertical-align: top;\n",
       "    }\n",
       "\n",
       "    .dataframe thead th {\n",
       "        text-align: right;\n",
       "    }\n",
       "</style>\n",
       "<table border=\"1\" class=\"dataframe\">\n",
       "  <thead>\n",
       "    <tr style=\"text-align: right;\">\n",
       "      <th></th>\n",
       "      <th>date</th>\n",
       "      <th>ordinal_date</th>\n",
       "      <th>dayofweek</th>\n",
       "      <th>start_time</th>\n",
       "      <th>end_time</th>\n",
       "      <th>time_taken</th>\n",
       "      <th>activity</th>\n",
       "      <th>activity status</th>\n",
       "      <th>planned</th>\n",
       "    </tr>\n",
       "  </thead>\n",
       "  <tbody>\n",
       "    <tr>\n",
       "      <th>0</th>\n",
       "      <td>2018-03-01</td>\n",
       "      <td>0</td>\n",
       "      <td>Thursday</td>\n",
       "      <td>09:00:00</td>\n",
       "      <td>NaN</td>\n",
       "      <td>NaN</td>\n",
       "      <td>9: Take histo down to Nick in the store on lvl 1</td>\n",
       "      <td>done</td>\n",
       "      <td>True</td>\n",
       "    </tr>\n",
       "    <tr>\n",
       "      <th>1</th>\n",
       "      <td>2018-03-01</td>\n",
       "      <td>0</td>\n",
       "      <td>Thursday</td>\n",
       "      <td>10:30:00</td>\n",
       "      <td>13:30:00</td>\n",
       "      <td>180.0</td>\n",
       "      <td>10:30-1:30: Animal facilities induction</td>\n",
       "      <td>done</td>\n",
       "      <td>True</td>\n",
       "    </tr>\n",
       "    <tr>\n",
       "      <th>2</th>\n",
       "      <td>2018-03-01</td>\n",
       "      <td>0</td>\n",
       "      <td>Thursday</td>\n",
       "      <td>14:00:00</td>\n",
       "      <td>15:00:00</td>\n",
       "      <td>60.0</td>\n",
       "      <td>2-3: Microbiome meeting</td>\n",
       "      <td>done</td>\n",
       "      <td>True</td>\n",
       "    </tr>\n",
       "    <tr>\n",
       "      <th>3</th>\n",
       "      <td>2018-03-01</td>\n",
       "      <td>0</td>\n",
       "      <td>Thursday</td>\n",
       "      <td>14:30:00</td>\n",
       "      <td>17:00:00</td>\n",
       "      <td>150.0</td>\n",
       "      <td>2:30-5: KB22 Collagen Analysis</td>\n",
       "      <td>done</td>\n",
       "      <td>True</td>\n",
       "    </tr>\n",
       "    <tr>\n",
       "      <th>4</th>\n",
       "      <td>2018-03-02</td>\n",
       "      <td>1</td>\n",
       "      <td>Friday</td>\n",
       "      <td>09:00:00</td>\n",
       "      <td>16:00:00</td>\n",
       "      <td>420.0</td>\n",
       "      <td>9-4: BALF processing for endpoint (Alex)</td>\n",
       "      <td>done</td>\n",
       "      <td>True</td>\n",
       "    </tr>\n",
       "    <tr>\n",
       "      <th>...</th>\n",
       "      <td>...</td>\n",
       "      <td>...</td>\n",
       "      <td>...</td>\n",
       "      <td>...</td>\n",
       "      <td>...</td>\n",
       "      <td>...</td>\n",
       "      <td>...</td>\n",
       "      <td>...</td>\n",
       "      <td>...</td>\n",
       "    </tr>\n",
       "    <tr>\n",
       "      <th>1408</th>\n",
       "      <td>2019-05-30</td>\n",
       "      <td>455</td>\n",
       "      <td>Thursday</td>\n",
       "      <td>NaN</td>\n",
       "      <td>NaN</td>\n",
       "      <td>NaN</td>\n",
       "      <td>Deal with RNA extraction problem</td>\n",
       "      <td>not done</td>\n",
       "      <td>True</td>\n",
       "    </tr>\n",
       "    <tr>\n",
       "      <th>1409</th>\n",
       "      <td>2019-05-30</td>\n",
       "      <td>455</td>\n",
       "      <td>Thursday</td>\n",
       "      <td>15:00:00</td>\n",
       "      <td>17:00:00</td>\n",
       "      <td>120.0</td>\n",
       "      <td>3-5: TJ16 CAE Mast cell hunting</td>\n",
       "      <td>not done</td>\n",
       "      <td>True</td>\n",
       "    </tr>\n",
       "    <tr>\n",
       "      <th>1410</th>\n",
       "      <td>2019-05-31</td>\n",
       "      <td>456</td>\n",
       "      <td>Friday</td>\n",
       "      <td>NaN</td>\n",
       "      <td>NaN</td>\n",
       "      <td>NaN</td>\n",
       "      <td>[sick]</td>\n",
       "      <td>note</td>\n",
       "      <td>True</td>\n",
       "    </tr>\n",
       "    <tr>\n",
       "      <th>1411</th>\n",
       "      <td>2019-05-31</td>\n",
       "      <td>456</td>\n",
       "      <td>Friday</td>\n",
       "      <td>09:00:00</td>\n",
       "      <td>10:00:00</td>\n",
       "      <td>60.0</td>\n",
       "      <td>9-10: Freezer move into loaned -80C. With Shan...</td>\n",
       "      <td>not done</td>\n",
       "      <td>True</td>\n",
       "    </tr>\n",
       "    <tr>\n",
       "      <th>1412</th>\n",
       "      <td>2019-05-31</td>\n",
       "      <td>456</td>\n",
       "      <td>Friday</td>\n",
       "      <td>NaN</td>\n",
       "      <td>NaN</td>\n",
       "      <td>NaN</td>\n",
       "      <td>Make Iso’s for FACSDiva</td>\n",
       "      <td>not done</td>\n",
       "      <td>True</td>\n",
       "    </tr>\n",
       "  </tbody>\n",
       "</table>\n",
       "<p>1413 rows × 9 columns</p>\n",
       "</div>"
      ],
      "text/plain": [
       "           date  ordinal_date dayofweek start_time  end_time  time_taken  \\\n",
       "0    2018-03-01             0  Thursday   09:00:00       NaN         NaN   \n",
       "1    2018-03-01             0  Thursday   10:30:00  13:30:00       180.0   \n",
       "2    2018-03-01             0  Thursday   14:00:00  15:00:00        60.0   \n",
       "3    2018-03-01             0  Thursday   14:30:00  17:00:00       150.0   \n",
       "4    2018-03-02             1    Friday   09:00:00  16:00:00       420.0   \n",
       "...         ...           ...       ...        ...       ...         ...   \n",
       "1408 2019-05-30           455  Thursday        NaN       NaN         NaN   \n",
       "1409 2019-05-30           455  Thursday   15:00:00  17:00:00       120.0   \n",
       "1410 2019-05-31           456    Friday        NaN       NaN         NaN   \n",
       "1411 2019-05-31           456    Friday   09:00:00  10:00:00        60.0   \n",
       "1412 2019-05-31           456    Friday        NaN       NaN         NaN   \n",
       "\n",
       "                                               activity activity status  \\\n",
       "0      9: Take histo down to Nick in the store on lvl 1            done   \n",
       "1               10:30-1:30: Animal facilities induction            done   \n",
       "2                               2-3: Microbiome meeting            done   \n",
       "3                        2:30-5: KB22 Collagen Analysis            done   \n",
       "4              9-4: BALF processing for endpoint (Alex)            done   \n",
       "...                                                 ...             ...   \n",
       "1408                   Deal with RNA extraction problem        not done   \n",
       "1409                    3-5: TJ16 CAE Mast cell hunting        not done   \n",
       "1410                                             [sick]            note   \n",
       "1411  9-10: Freezer move into loaned -80C. With Shan...        not done   \n",
       "1412                            Make Iso’s for FACSDiva        not done   \n",
       "\n",
       "      planned  \n",
       "0        True  \n",
       "1        True  \n",
       "2        True  \n",
       "3        True  \n",
       "4        True  \n",
       "...       ...  \n",
       "1408     True  \n",
       "1409     True  \n",
       "1410     True  \n",
       "1411     True  \n",
       "1412     True  \n",
       "\n",
       "[1413 rows x 9 columns]"
      ]
     },
     "execution_count": 33,
     "metadata": {},
     "output_type": "execute_result"
    }
   ],
   "source": [
    "data_table"
   ]
  },
  {
   "cell_type": "code",
   "execution_count": null,
   "metadata": {},
   "outputs": [],
   "source": []
  }
 ],
 "metadata": {
  "kernelspec": {
   "display_name": "Python 3",
   "language": "python",
   "name": "python3"
  },
  "language_info": {
   "codemirror_mode": {
    "name": "ipython",
    "version": 3
   },
   "file_extension": ".py",
   "mimetype": "text/x-python",
   "name": "python",
   "nbconvert_exporter": "python",
   "pygments_lexer": "ipython3",
   "version": "3.7.6"
  }
 },
 "nbformat": 4,
 "nbformat_minor": 4
}
